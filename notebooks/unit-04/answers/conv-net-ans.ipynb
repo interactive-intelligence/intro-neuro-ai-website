{
 "cells": [
  {
   "cell_type": "markdown",
   "metadata": {
    "id": "r2yx31WhTqox"
   },
   "source": [
    "### CIFAR-10 CNN Project **[ANSWER SHEET]**\n",
    "\n",
    "##### How to work through this project:\n",
    "- Go cell by cell and finish the marked #TODO's\n",
    "- You don't need to touch the code marked between the `#---------#`. Those are puzzle pieces that your code will fit into!\n",
    "    - However, I **STRONGLY** encourage you to understand every single line between those blocks. They are essential!\n",
    "    - It is crucial that your variable names are what we expect them to be, or the puzzle pieces won't fit.\n",
    "- Tutorials/helpful information will be placed in the `.md` cells above the \"work\" cells. Consult them if you are stuck.\n",
    "- If you REALLY cannot find the correct code to make the cell run, consult the `[proj]-ans.ipynb`.\n",
    "- The final product (what we expect to see if you run all the cells consecutively) will be placed in the `answers/` directory.\n",
    "    - Chances are your output won't be the exact same (stochasticity!) but it should be similar"
   ]
  },
  {
   "cell_type": "code",
   "execution_count": 1,
   "metadata": {
    "id": "sc0vIjz1Tqo2"
   },
   "outputs": [],
   "source": [
    "# Get used to these imports!\n",
    "#----------------------------------------------------------------#\n",
    "import random\n",
    "#To install: pip install numpy\n",
    "import numpy as np\n",
    "#To install: pip install matplotlib\n",
    "import matplotlib.pyplot as plt\n",
    "#To install: pip install torchvision\n",
    "import torchvision as tv\n",
    "import torchvision.transforms as transforms\n",
    "#To install: pip install torch (not GPU compatible)\n",
    "import torch\n",
    "import torch.nn as nn\n",
    "#To install: pip install Pillow\n",
    "from PIL import Image\n",
    "#----------------------------------------------------------------#"
   ]
  },
  {
   "cell_type": "code",
   "execution_count": 2,
   "metadata": {
    "colab": {
     "base_uri": "https://localhost:8080/"
    },
    "id": "VVwjjbHVTqo4",
    "outputId": "e743fab3-5530-4cde-b87d-3c5f1c85842c"
   },
   "outputs": [
    {
     "name": "stdout",
     "output_type": "stream",
     "text": [
      "Files already downloaded and verified\n",
      "Files already downloaded and verified\n",
      "Train dataset length: 50000\n",
      "Test dataset length: 10000\n",
      "Image shape: (3, 32, 32)\n"
     ]
    }
   ],
   "source": [
    "# Below is the train/test data from CIFAR-10. Try and find their shapes\n",
    "# This is different than normal MNIST! You will see this below\n",
    "#----------------------------------------------------------------#\n",
    "transform = transforms.Compose(\n",
    "    [transforms.ToTensor(),\n",
    "     # normalization - Adjusts features so that they are on a similar scale\n",
    "     transforms.Normalize((0.5, 0.5, 0.5), (0.5, 0.5, 0.5))])\n",
    "\n",
    "train_set = tv.datasets.CIFAR10(root='./data', train=True,\n",
    "                                        download=True, transform=transform)\n",
    "\n",
    "test_set = tv.datasets.CIFAR10(root='./data', train=False,\n",
    "                                       download=True, transform=transform)\n",
    "\n",
    "# Helps us convert numbers to labels\n",
    "classes = ('plane', 'car', 'bird', 'cat',\n",
    "           'deer', 'dog', 'frog', 'horse', 'ship', 'truck')\n",
    "#----------------------------------------------------------------#\n",
    "## TODO: What is the shape of our inputs and outputs?\n",
    "# print the number of images in train_set and test_set,\n",
    "# then print out the dimension of each image\n",
    "\"\"\"\n",
    "IMPORTANT: Each element of the dataset is a tuple (image, label).\n",
    "THIS IS DIFFERENT FROM MNIST!!!\n",
    "\n",
    "Tips:\n",
    "- Use len to get length of dataset\n",
    "- To get the first element of a tuple, use [0]\n",
    "- use .numpy() to convert tensor to numpy array, then write .shape to get shape\n",
    "\"\"\"\n",
    "#! answer\n",
    "print(\"Train dataset length:\", len(train_set))\n",
    "print(\"Test dataset length:\", len(test_set))\n",
    "\n",
    "print(\"Image shape:\", train_set[0][0].numpy().shape)"
   ]
  },
  {
   "cell_type": "markdown",
   "metadata": {
    "id": "pATz1Y5uTqo6"
   },
   "source": [
    "The following code block is short, but ***incredibly important***. It shows how to set up a **Dataloader** which is needed to pass data through a neural network. Try to get familiar with the syntax.\n",
    "\n",
    "Notice how even though we have changed the Dataset, the dataloaders are the same."
   ]
  },
  {
   "cell_type": "code",
   "execution_count": 3,
   "metadata": {
    "id": "hDEhuMWHTqo7"
   },
   "outputs": [],
   "source": [
    "# Creates dataloaders from the CIFAR-10 dataset\n",
    "batch_size = 20\n",
    "#----------------------------------------------------------------#\n",
    "train_loader = torch.utils.data.DataLoader(train_set, batch_size=batch_size,\n",
    "                                          shuffle=True, num_workers=2)\n",
    "test_loader = torch.utils.data.DataLoader(test_set, batch_size=batch_size,\n",
    "                                         shuffle=False, num_workers=2)\n",
    "#----------------------------------------------------------------#"
   ]
  },
  {
   "cell_type": "markdown",
   "metadata": {
    "id": "dOPcqpryTqo8"
   },
   "source": [
    "Lets visualize the data! This will be different than last time since we are working with dataloaders."
   ]
  },
  {
   "cell_type": "code",
   "execution_count": 4,
   "metadata": {
    "colab": {
     "base_uri": "https://localhost:8080/",
     "height": 1000
    },
    "id": "qHrJ9BGRTqo8",
    "outputId": "f76fe0c2-d772-4e66-84e1-b8e2a2d89d13"
   },
   "outputs": [
    {
     "data": {
      "image/png": "[encoded data removed]",
      "text/plain": [
       "<Figure size 640x480 with 1 Axes>"
      ]
     },
     "metadata": {},
     "output_type": "display_data"
    },
    {
     "data": {
      "image/png": "[encoded data removed]",
      "text/plain": [
       "<Figure size 640x480 with 1 Axes>"
      ]
     },
     "metadata": {},
     "output_type": "display_data"
    },
    {
     "data": {
      "image/png": "[encoded data removed]",
      "text/plain": [
       "<Figure size 640x480 with 1 Axes>"
      ]
     },
     "metadata": {},
     "output_type": "display_data"
    }
   ],
   "source": [
    "# Visualizes num_to_viz digits and labels with plt.matshow and plt.show. Notice how reshape is used to get the data into proper format for visualization.\n",
    "# Note the use of reshape!\n",
    "#----------------------------------------------------------------#\n",
    "num_to_viz = 3\n",
    "toPilImage = transforms.ToPILImage()\n",
    "\n",
    "for i in range(num_to_viz):\n",
    "    j = random.randrange(50000)\n",
    "    # unnormalize image\n",
    "    image_to_viz = toPilImage(train_set[j][0] / 2 + 0.5)\n",
    "    image_to_viz_label = train_set[j][1]\n",
    "    plt.imshow(image_to_viz)\n",
    "    plt.title(classes[image_to_viz_label])\n",
    "    plt.show()\n",
    "#----------------------------------------------------------------#"
   ]
  },
  {
   "cell_type": "markdown",
   "metadata": {
    "id": "M2AziHGYTqo9"
   },
   "source": [
    "So far, this has been similar to the MNIST-DNN Project. When does it diverge? Well first we are going to make a DNN to try and classify these fashion images and then check the accuracy we get. Then we will compare it to the accuracy of a CNN on the **exact same data**."
   ]
  },
  {
   "cell_type": "code",
   "execution_count": 5,
   "metadata": {
    "id": "iCUv5tKSTqo9"
   },
   "outputs": [],
   "source": [
    "# Goal: Make a neural network that can classify CIFAR-10\n",
    "# No example network provided this time! Refer back to Unit 2 if youre stuck on how to make a DNN\n",
    "\n",
    "## TODO: Create the following required NN class that can work with CIFAR-10 data, and then instantiate a model\n",
    "\n",
    "#!!!!!!!!!!!!!!!!!!!!!!!!!!!!!!!!!!!!!!!!!!!!!!!!!!!!!!!!!!!!!!!!!!!!!!!!!!!!!!!!!#\n",
    "###! MAKE SURE YOUR NEURAL NETWORK HAS AT LEAST 3 HIDDEN LAYERS AND DOES NOT HAVE HARDCODED LAYER SIZE VALUES!###\n",
    "#!!!!!!!!!!!!!!!!!!!!!!!!!!!!!!!!!!!!!!!!!!!!!!!!!!!!!!!!!!!!!!!!!!!!!!!!!!!!!!!!!#\n",
    "\n",
    "# CIFAR10_DNN: The name of your class\n",
    "# model: An instance of CIFAR10_DNN\n",
    "\"\"\"\n",
    "Tips:\n",
    "- Think about what input and output sizes you want\n",
    "- Hidden layers can be most anything, just make sure to reduce gradually\n",
    "- Remind yourself what activations are and why they are useful\n",
    "- Make sure to name your class \"CIFAR10_DNN\"\n",
    "- Instead of hardcoding the numbers in for the layer sizes, make them passable parameters\n",
    "- Make sure to actually make your model using model = CIFAR10_DNN(...) as the last line\n",
    "\"\"\"\n",
    "\n",
    "#! Answer\n",
    "class CIFAR10_DNN(nn.Module):\n",
    "    def __init__(self, input_layer_size, hlA_size, hlB_size, hlC_size, output_layer_size):\n",
    "        super(CIFAR10_DNN, self).__init__()\n",
    "\n",
    "        # Structure\n",
    "        self._input_layer_size = input_layer_size\n",
    "        self._hlA_size = hlA_size\n",
    "        self._hlB_size = hlB_size\n",
    "        self._hlC_size = hlC_size\n",
    "        self._output_layer_size = output_layer_size\n",
    "\n",
    "        # Layers\n",
    "        self._l1 = nn.Linear(self._input_layer_size, self._hlA_size)\n",
    "        self._l2 = nn.Linear(self._hlA_size, self._hlB_size)\n",
    "        self._l3 = nn.Linear(self._hlB_size, self._hlC_size)\n",
    "        self._l4 = nn.Linear(self._hlC_size, self._output_layer_size)\n",
    "\n",
    "        # Activations\n",
    "        self._relu = nn.ReLU()\n",
    "\n",
    "    def forward(self, input):\n",
    "        x = self._l1(input)\n",
    "        x = self._relu(x)\n",
    "        x = self._l2(x)\n",
    "        x = self._relu(x)\n",
    "        x = self._l3(x)\n",
    "        x = self._relu(x)\n",
    "        output = self._l4(x)\n",
    "        return output\n",
    "\n",
    "# Middle 2 numbers can be basically anything reasonable\n",
    "model = CIFAR10_DNN(3072, 512, 256, 64, 10)"
   ]
  },
  {
   "cell_type": "markdown",
   "metadata": {
    "id": "nYJho-CaTqo-"
   },
   "source": [
    "__Now your task will be to train and test the model__. Again, refer back to **unit 2** if any of this has slipped from your memory (that is totally fine). However, don't get discouraged at the difficulty because none of this is new! You did it before and can do it again. We have provided the loss function and optimizer, but nothing else."
   ]
  },
  {
   "cell_type": "code",
   "execution_count": 6,
   "metadata": {
    "colab": {
     "base_uri": "https://localhost:8080/"
    },
    "id": "qHBEEVhfTqo_",
    "outputId": "85e1814e-6109-41d6-f67f-bb93207cc708"
   },
   "outputs": [
    {
     "name": "stdout",
     "output_type": "stream",
     "text": [
      "Epoch [1/3], Step[100/2500], Loss: 1.7217\n",
      "Epoch [1/3], Step[200/2500], Loss: 2.0646\n",
      "Epoch [1/3], Step[300/2500], Loss: 1.3385\n",
      "Epoch [1/3], Step[400/2500], Loss: 1.5544\n",
      "Epoch [1/3], Step[500/2500], Loss: 1.6798\n",
      "Epoch [1/3], Step[600/2500], Loss: 1.7851\n",
      "Epoch [1/3], Step[700/2500], Loss: 1.4356\n",
      "Epoch [1/3], Step[800/2500], Loss: 1.5255\n",
      "Epoch [1/3], Step[900/2500], Loss: 1.7515\n",
      "Epoch [1/3], Step[1000/2500], Loss: 1.7722\n",
      "Epoch [1/3], Step[1100/2500], Loss: 1.4113\n",
      "Epoch [1/3], Step[1200/2500], Loss: 1.4940\n",
      "Epoch [1/3], Step[1300/2500], Loss: 1.3025\n",
      "Epoch [1/3], Step[1400/2500], Loss: 1.3235\n",
      "Epoch [1/3], Step[1500/2500], Loss: 1.9668\n",
      "Epoch [1/3], Step[1600/2500], Loss: 1.7614\n",
      "Epoch [1/3], Step[1700/2500], Loss: 1.5078\n",
      "Epoch [1/3], Step[1800/2500], Loss: 1.9557\n",
      "Epoch [1/3], Step[1900/2500], Loss: 1.5481\n",
      "Epoch [1/3], Step[2000/2500], Loss: 1.3280\n",
      "Epoch [1/3], Step[2100/2500], Loss: 1.2580\n",
      "Epoch [1/3], Step[2200/2500], Loss: 1.3655\n",
      "Epoch [1/3], Step[2300/2500], Loss: 1.5542\n",
      "Epoch [1/3], Step[2400/2500], Loss: 1.6331\n",
      "Epoch [1/3], Step[2500/2500], Loss: 1.3313\n",
      "Epoch [2/3], Step[100/2500], Loss: 1.3617\n",
      "Epoch [2/3], Step[200/2500], Loss: 1.5367\n",
      "Epoch [2/3], Step[300/2500], Loss: 1.3771\n",
      "Epoch [2/3], Step[400/2500], Loss: 1.6069\n",
      "Epoch [2/3], Step[500/2500], Loss: 1.2976\n",
      "Epoch [2/3], Step[600/2500], Loss: 1.7673\n",
      "Epoch [2/3], Step[700/2500], Loss: 1.3216\n",
      "Epoch [2/3], Step[800/2500], Loss: 1.4483\n",
      "Epoch [2/3], Step[900/2500], Loss: 1.3855\n",
      "Epoch [2/3], Step[1000/2500], Loss: 1.7324\n",
      "Epoch [2/3], Step[1100/2500], Loss: 1.4460\n",
      "Epoch [2/3], Step[1200/2500], Loss: 1.9414\n",
      "Epoch [2/3], Step[1300/2500], Loss: 1.1855\n",
      "Epoch [2/3], Step[1400/2500], Loss: 1.2960\n",
      "Epoch [2/3], Step[1500/2500], Loss: 1.6369\n",
      "Epoch [2/3], Step[1600/2500], Loss: 1.6651\n",
      "Epoch [2/3], Step[1700/2500], Loss: 1.4137\n",
      "Epoch [2/3], Step[1800/2500], Loss: 1.5601\n",
      "Epoch [2/3], Step[1900/2500], Loss: 0.9478\n",
      "Epoch [2/3], Step[2000/2500], Loss: 1.9434\n",
      "Epoch [2/3], Step[2100/2500], Loss: 1.3747\n",
      "Epoch [2/3], Step[2200/2500], Loss: 1.4053\n",
      "Epoch [2/3], Step[2300/2500], Loss: 1.8764\n",
      "Epoch [2/3], Step[2400/2500], Loss: 1.4454\n",
      "Epoch [2/3], Step[2500/2500], Loss: 1.2925\n",
      "Epoch [3/3], Step[100/2500], Loss: 1.6003\n",
      "Epoch [3/3], Step[200/2500], Loss: 1.6665\n",
      "Epoch [3/3], Step[300/2500], Loss: 1.4596\n",
      "Epoch [3/3], Step[400/2500], Loss: 1.5592\n",
      "Epoch [3/3], Step[500/2500], Loss: 1.3006\n",
      "Epoch [3/3], Step[600/2500], Loss: 1.2559\n",
      "Epoch [3/3], Step[700/2500], Loss: 1.3924\n",
      "Epoch [3/3], Step[800/2500], Loss: 1.1709\n",
      "Epoch [3/3], Step[900/2500], Loss: 1.3500\n",
      "Epoch [3/3], Step[1000/2500], Loss: 1.1347\n",
      "Epoch [3/3], Step[1100/2500], Loss: 1.5484\n",
      "Epoch [3/3], Step[1200/2500], Loss: 1.3668\n",
      "Epoch [3/3], Step[1300/2500], Loss: 1.2516\n",
      "Epoch [3/3], Step[1400/2500], Loss: 1.7588\n",
      "Epoch [3/3], Step[1500/2500], Loss: 1.0471\n",
      "Epoch [3/3], Step[1600/2500], Loss: 1.2425\n",
      "Epoch [3/3], Step[1700/2500], Loss: 1.2739\n",
      "Epoch [3/3], Step[1800/2500], Loss: 1.3052\n",
      "Epoch [3/3], Step[1900/2500], Loss: 1.4222\n",
      "Epoch [3/3], Step[2000/2500], Loss: 1.5973\n",
      "Epoch [3/3], Step[2100/2500], Loss: 1.3598\n",
      "Epoch [3/3], Step[2200/2500], Loss: 1.2558\n",
      "Epoch [3/3], Step[2300/2500], Loss: 1.4733\n",
      "Epoch [3/3], Step[2400/2500], Loss: 1.7983\n",
      "Epoch [3/3], Step[2500/2500], Loss: 1.4737\n"
     ]
    }
   ],
   "source": [
    "# Feel free to mess with the code in here once you have finished the project to see what effect it will have.\n",
    "# For now, though, simply read and accept the syntax as-is\n",
    "#----------------------------------------------------------------#\n",
    "loss_func = nn.CrossEntropyLoss() # Mean Squared Error\n",
    "optimizer = torch.optim.Adam(model.parameters(), lr=0.001) # Adaptive Optimizer\n",
    "#----------------------------------------------------------------#\n",
    "\n",
    "## TODO: Implement the training loop for your model. Reference unit 2 example if stuck.\n",
    "\n",
    "#! Answer\n",
    "num_epochs = 3\n",
    "n_total_steps = len(train_loader)\n",
    "for epoch in range(num_epochs): # One epoch is one time going through all of the training data\n",
    "    for i, (images, labels) in enumerate(train_loader): # Dataloaders let you use easy syntax like this\n",
    "\n",
    "        # Reshaping\n",
    "        # original shape: [100, 1, 28, 28], batch of images\n",
    "        images = images.reshape(-1, 3*32*32)\n",
    "        # resized: [100, 784], batch of vectorized images\n",
    "\n",
    "        # Forwardpropagation\n",
    "        # This calls \"forward\" in the CIFAR10_DNN class\n",
    "        outputs = model(images)\n",
    "\n",
    "        # Calculates the loss of this batch by using the labels\n",
    "        loss = loss_func(outputs, labels)\n",
    "\n",
    "        # Backward and optimize, this sequence of 3 lines is pretty standard/set in stone. Just memorize it!\n",
    "        optimizer.zero_grad()\n",
    "        loss.backward()\n",
    "        optimizer.step()\n",
    "\n",
    "        # Showing training steps\n",
    "        if (i+1) % 100 == 0:\n",
    "             print (f'Epoch [{epoch+1}/{num_epochs}], Step[{i+1}/{n_total_steps}], Loss: {loss.item():.4f}')"
   ]
  },
  {
   "cell_type": "markdown",
   "metadata": {
    "id": "zEcrHaZnTqo_"
   },
   "source": [
    "Here is the testing loop again. Run it to see how your accuracy is!\n",
    "\n",
    "Then run all your code and see what your **final accuracy** is!"
   ]
  },
  {
   "cell_type": "code",
   "execution_count": 7,
   "metadata": {
    "colab": {
     "base_uri": "https://localhost:8080/"
    },
    "id": "KYerGNExTqpA",
    "outputId": "69a86e5d-6040-4dbf-ccde-859e8608e4e4"
   },
   "outputs": [
    {
     "name": "stdout",
     "output_type": "stream",
     "text": [
      "Accuracy of the network on the 10000 test images: 50.01 %\n"
     ]
    }
   ],
   "source": [
    "# Note the use of torch.no_grad() and torch.max(). Be sure you know what they are doing\n",
    "#----------------------------------------------------------------#\n",
    "with torch.no_grad():\n",
    "    n_correct = 0\n",
    "    n_samples = 0\n",
    "    for images, labels in test_loader:\n",
    "        images = images.reshape(-1, 3*32*32)\n",
    "        outputs = model(images)\n",
    "        # max returns (value ,index)\n",
    "        _, predicted = torch.max(outputs.data, 1)\n",
    "        n_samples += labels.size(0)\n",
    "        n_correct += (predicted == labels).sum().item()\n",
    "    acc = 100.0 * n_correct / n_samples\n",
    "    print(f'Accuracy of the network on the 10000 test images: {acc} %')\n",
    "#----------------------------------------------------------------#"
   ]
  },
  {
   "cell_type": "markdown",
   "metadata": {
    "id": "w5zM5N8gTqpA"
   },
   "source": [
    "Expected accuracy: ~50%\n",
    "\n",
    "Great job! We have made a DNN classifier for CIFAR-10. Hopefully you are comfortable making models now, **since you will now be making a CNN!**\n",
    "\n",
    "Let's see if the CNN's architectural differences will allow it to score higher than a standard DNN.\n",
    "\n",
    "Check out these resources. If you get stuck, look at the third resource. We will do something similar:\n",
    "- [Conv2d Documentation](https://pytorch.org/docs/stable/generated/torch.nn.Conv2d.html)\n",
    "- [F_MNIST with a CNN Tutorial](https://medium.com/@nutanbhogendrasharma/pytorch-convolutional-neural-network-with-mnist-dataset-4e8a4265e118)\n",
    "- [Training a Classifier](https://pytorch.org/tutorials/beginner/blitz/cifar10_tutorial.html)"
   ]
  },
  {
   "cell_type": "code",
   "execution_count": 8,
   "metadata": {
    "id": "mrkbRGC1TqpB"
   },
   "outputs": [],
   "source": [
    "# Goal: Make a convolutional neural network that can classify CIFAR-10\n",
    "# Provided below is a syntactical example of a CNN, study it and try and make one that will fit CIFAR-10\n",
    "\n",
    "class CNN_EXAMPLE(nn.Module):\n",
    "    def __init__(self):\n",
    "        super(CNN_EXAMPLE, self).__init__()\n",
    "\n",
    "        # Structure\n",
    "        input_channels = 1 # Represents the number of color channels an image has. We are working with grayscale so it will be 1. RGB would be 3.\n",
    "\n",
    "        # Convolutional Layers\n",
    "        self.conv_l1 = nn.Conv2d(in_channels=input_channels, out_channels=5, kernel_size=(3, 3), stride=1)\n",
    "\n",
    "        # Feedforward Layers\n",
    "        self.ff1 = nn.Linear(845, 10) # The input number selected here is dependent on the size of the output from the previous layers. You can do some printing of shapes to figure out what it should be.\n",
    "\n",
    "        # Maxpool Layers\n",
    "        self.maxpool = nn.MaxPool2d(kernel_size=(2,2), stride=2)\n",
    "\n",
    "        # Activations\n",
    "        self.sigmoid = nn.Sigmoid()\n",
    "        self.softmax = nn.Softmax()\n",
    "\n",
    "\n",
    "    def forward(self, input):\n",
    "        x = self.conv_l1(input)\n",
    "        x = self.sigmoid(x)\n",
    "        x = self.maxpool(x)\n",
    "\n",
    "        x = torch.flatten(x, 1)\n",
    "\n",
    "        print(x.detach().numpy().shape) # Can help you find the necessary input size for the feedforward part!!!\n",
    "\n",
    "        output = self.ff1(x)\n",
    "\n",
    "        return output\n",
    "\n",
    "## TODO: Create the following required NN class that can work with CIFAR-10 data, and then instantiate a model\n",
    "\n",
    "#!!!!!!!!!!!!!!!!!!!!!!!!!!!!!!!!!!!!!!!!!!!!!!!!!!!!!!!!!!!!!!!!!!!!!!!!!!!!!!!!!!!!!!!!!!!!!!!#\n",
    "###! MAKE SURE YOUR NEURAL NETWORK HAS AT LEAST 2 CONVOLUTION LAYERS! THE EXAMPLE ONLY HAS 1 !###\n",
    "#!!!!!!!!!!!!!!!!!!!!!!!!!!!!!!!!!!!!!!!!!!!!!!!!!!!!!!!!!!!!!!!!!!!!!!!!!!!!!!!!!!!!!!!!!!!!!!!#\n",
    "\n",
    "# CIFAR10_CNN: The name of your class\n",
    "# cnn_model: An instance of CIFAR10_CNN\n",
    "\"\"\"\n",
    "Tips:\n",
    "- The transition from convolutional to linear layers is tough\n",
    "    - Print out the shape of the object right before it is supposed to go into the linear layer to find out how big the layer input size should be\n",
    "    - **You may need to make the training loop in advance to do this**\n",
    "- When you flatten, do it exactly as shown in the example (x = torch.flatten(x, 1)) to ensure you flatten across the right dimension\n",
    "- Ignore the first dimension when printing out the shape of x before flattening (as shown above in the example), since it is the batch size\n",
    "- Make sure to name your class \"CIFAR10_CNN\"\n",
    "- Instead of hardcoding the numbers in for the input channels and output size, make them passable parameters\n",
    "- Make sure to actually make your model using f_model = CIFAR10_CNN(...) as the last line\n",
    "- Our images are in RGB, so the first conv layer should have 3 input channels!\n",
    "\"\"\"\n",
    "\n",
    "#! Answer (one of many!)\n",
    "class CIFAR10_CNN(nn.Module):\n",
    "    def __init__(self, input_channels, output_size):\n",
    "        super(CIFAR10_CNN, self).__init__()\n",
    "\n",
    "        # Convolutional Layers\n",
    "        self.conv_l1 = nn.Conv2d(in_channels=input_channels, out_channels=16, kernel_size=5, stride=1, padding=2)\n",
    "        self.conv_l2 = nn.Conv2d(in_channels=16, out_channels=32, kernel_size=5, stride=1, padding=2)\n",
    "        self.conv_l3 = nn.Conv2d(in_channels=32, out_channels=64, kernel_size=5, stride=1, padding=2)\n",
    "\n",
    "        # Feedforward Layers\n",
    "        self.ff1 = nn.Linear(1024, 512)\n",
    "        self.ff2 = nn.Linear(512, 256)\n",
    "        self.ff3 = nn.Linear(256, output_size)\n",
    "\n",
    "        # Maxpool Layers\n",
    "        self.maxpool = nn.MaxPool2d(kernel_size=2)\n",
    "\n",
    "        # Activations\n",
    "        self.relu = nn.ReLU()\n",
    "        self.softmax = nn.Softmax()\n",
    "\n",
    "\n",
    "    def forward(self, input):\n",
    "        x = self.conv_l1(input)\n",
    "        x = self.relu(x)\n",
    "        x = self.maxpool(x)\n",
    "\n",
    "        x = self.conv_l2(x)\n",
    "        x = self.relu(x)\n",
    "        x = self.maxpool(x)\n",
    "\n",
    "        x = self.conv_l3(x)\n",
    "        x = self.relu(x)\n",
    "        x = self.maxpool(x)\n",
    "\n",
    "        x = torch.flatten(x, 1)\n",
    "\n",
    "        x = self.ff1(x)\n",
    "        x = self.relu(x)\n",
    "        x = self.ff2(x)\n",
    "        x = self.relu(x)\n",
    "        output = self.ff3(x)\n",
    "\n",
    "        return output\n",
    "\n",
    "cnn_model = CIFAR10_CNN(3, 10)"
   ]
  },
  {
   "cell_type": "markdown",
   "metadata": {
    "id": "YNI24xkSTqpC"
   },
   "source": [
    "Below is where you should make your training loop. It will be very similar to the DNN training loop **with some slight alterations**."
   ]
  },
  {
   "cell_type": "code",
   "execution_count": 9,
   "metadata": {
    "colab": {
     "base_uri": "https://localhost:8080/"
    },
    "id": "b7jipHeLTqpC",
    "outputId": "37730304-659b-4f7c-e865-d27063785528"
   },
   "outputs": [
    {
     "name": "stdout",
     "output_type": "stream",
     "text": [
      "Epoch [1/3], Step[100/2500], Loss: 1.7792\n",
      "Epoch [1/3], Step[200/2500], Loss: 2.0473\n",
      "Epoch [1/3], Step[300/2500], Loss: 1.8315\n",
      "Epoch [1/3], Step[400/2500], Loss: 1.5927\n",
      "Epoch [1/3], Step[500/2500], Loss: 1.9356\n",
      "Epoch [1/3], Step[600/2500], Loss: 1.5699\n",
      "Epoch [1/3], Step[700/2500], Loss: 1.3924\n",
      "Epoch [1/3], Step[800/2500], Loss: 2.0333\n",
      "Epoch [1/3], Step[900/2500], Loss: 1.4219\n",
      "Epoch [1/3], Step[1000/2500], Loss: 1.7597\n",
      "Epoch [1/3], Step[1100/2500], Loss: 1.3696\n",
      "Epoch [1/3], Step[1200/2500], Loss: 1.5601\n",
      "Epoch [1/3], Step[1300/2500], Loss: 1.3396\n",
      "Epoch [1/3], Step[1400/2500], Loss: 1.2688\n",
      "Epoch [1/3], Step[1500/2500], Loss: 1.0234\n",
      "Epoch [1/3], Step[1600/2500], Loss: 1.1624\n",
      "Epoch [1/3], Step[1700/2500], Loss: 1.3225\n",
      "Epoch [1/3], Step[1800/2500], Loss: 1.4063\n",
      "Epoch [1/3], Step[1900/2500], Loss: 1.4831\n",
      "Epoch [1/3], Step[2000/2500], Loss: 1.1143\n",
      "Epoch [1/3], Step[2100/2500], Loss: 1.0295\n",
      "Epoch [1/3], Step[2200/2500], Loss: 0.8902\n",
      "Epoch [1/3], Step[2300/2500], Loss: 1.6033\n",
      "Epoch [1/3], Step[2400/2500], Loss: 1.2971\n",
      "Epoch [1/3], Step[2500/2500], Loss: 1.0838\n",
      "Epoch [2/3], Step[100/2500], Loss: 0.9637\n",
      "Epoch [2/3], Step[200/2500], Loss: 0.7922\n",
      "Epoch [2/3], Step[300/2500], Loss: 1.4044\n",
      "Epoch [2/3], Step[400/2500], Loss: 1.1550\n",
      "Epoch [2/3], Step[500/2500], Loss: 0.7543\n",
      "Epoch [2/3], Step[600/2500], Loss: 1.2613\n",
      "Epoch [2/3], Step[700/2500], Loss: 0.6209\n",
      "Epoch [2/3], Step[800/2500], Loss: 1.0474\n",
      "Epoch [2/3], Step[900/2500], Loss: 1.4382\n",
      "Epoch [2/3], Step[1000/2500], Loss: 0.8268\n",
      "Epoch [2/3], Step[1100/2500], Loss: 0.7958\n",
      "Epoch [2/3], Step[1200/2500], Loss: 1.3153\n",
      "Epoch [2/3], Step[1300/2500], Loss: 0.7561\n",
      "Epoch [2/3], Step[1400/2500], Loss: 1.1529\n",
      "Epoch [2/3], Step[1500/2500], Loss: 1.3848\n",
      "Epoch [2/3], Step[1600/2500], Loss: 1.0034\n",
      "Epoch [2/3], Step[1700/2500], Loss: 1.1553\n",
      "Epoch [2/3], Step[1800/2500], Loss: 0.8332\n",
      "Epoch [2/3], Step[1900/2500], Loss: 0.9225\n",
      "Epoch [2/3], Step[2000/2500], Loss: 1.0366\n",
      "Epoch [2/3], Step[2100/2500], Loss: 0.7397\n",
      "Epoch [2/3], Step[2200/2500], Loss: 0.7714\n",
      "Epoch [2/3], Step[2300/2500], Loss: 0.6627\n",
      "Epoch [2/3], Step[2400/2500], Loss: 0.9871\n",
      "Epoch [2/3], Step[2500/2500], Loss: 0.9769\n",
      "Epoch [3/3], Step[100/2500], Loss: 0.6997\n",
      "Epoch [3/3], Step[200/2500], Loss: 0.8253\n",
      "Epoch [3/3], Step[300/2500], Loss: 0.6018\n",
      "Epoch [3/3], Step[400/2500], Loss: 0.7896\n",
      "Epoch [3/3], Step[500/2500], Loss: 0.9671\n",
      "Epoch [3/3], Step[600/2500], Loss: 0.5667\n",
      "Epoch [3/3], Step[700/2500], Loss: 0.6947\n",
      "Epoch [3/3], Step[800/2500], Loss: 0.6589\n",
      "Epoch [3/3], Step[900/2500], Loss: 1.0100\n",
      "Epoch [3/3], Step[1000/2500], Loss: 0.8570\n",
      "Epoch [3/3], Step[1100/2500], Loss: 0.5946\n",
      "Epoch [3/3], Step[1200/2500], Loss: 0.7269\n",
      "Epoch [3/3], Step[1300/2500], Loss: 0.5591\n",
      "Epoch [3/3], Step[1400/2500], Loss: 1.0138\n",
      "Epoch [3/3], Step[1500/2500], Loss: 0.5683\n",
      "Epoch [3/3], Step[1600/2500], Loss: 1.0141\n",
      "Epoch [3/3], Step[1700/2500], Loss: 0.5851\n",
      "Epoch [3/3], Step[1800/2500], Loss: 0.5539\n",
      "Epoch [3/3], Step[1900/2500], Loss: 0.7995\n",
      "Epoch [3/3], Step[2000/2500], Loss: 1.0722\n",
      "Epoch [3/3], Step[2100/2500], Loss: 0.4629\n",
      "Epoch [3/3], Step[2200/2500], Loss: 0.3136\n",
      "Epoch [3/3], Step[2300/2500], Loss: 0.6657\n",
      "Epoch [3/3], Step[2400/2500], Loss: 0.4556\n",
      "Epoch [3/3], Step[2500/2500], Loss: 1.4008\n"
     ]
    }
   ],
   "source": [
    "# Feel free to mess with the code in here once you have finished the project to see what effect it will have.\n",
    "# For now, though, simply read and accept the syntax as-is\n",
    "#----------------------------------------------------------------#\n",
    "loss_func = nn.CrossEntropyLoss() # Mean Squared Error\n",
    "# You're allowed to play with the learning rate here\n",
    "optimizer = torch.optim.Adam(cnn_model.parameters(), lr=0.0007) # Adaptive Optimizer\n",
    "#----------------------------------------------------------------#\n",
    "\n",
    "## TODO: Implement the training loop for your model\n",
    "\n",
    "\"\"\"\n",
    "Tips:\n",
    "- Is there any need to reshape at all? Think about what a convolution acts on dimension-wise\n",
    "- Everything except for the thing mentioned above will be the same!\n",
    "\"\"\"\n",
    "\n",
    "#! Answer\n",
    "num_epochs = 3\n",
    "n_total_steps = len(train_loader)\n",
    "for epoch in range(num_epochs): # One epoch is one time going through all of the training data\n",
    "    for i, (images, labels) in enumerate(train_loader): # Dataloaders let you use easy syntax like this\n",
    "\n",
    "        # Forwardpropagation\n",
    "        # This calls \"forward\" in the CIFAR10_CNN class\n",
    "        outputs = cnn_model(images)\n",
    "\n",
    "        # Calculates the loss of this batch by using the labels\n",
    "        loss = loss_func(outputs, labels)\n",
    "\n",
    "        # Backward and optimize, this sequence of 3 lines is pretty standard/set in stone. Just memorize it!\n",
    "        optimizer.zero_grad()\n",
    "        loss.backward()\n",
    "        optimizer.step()\n",
    "\n",
    "        # Showing training steps\n",
    "        if (i+1) % 100 == 0:\n",
    "             print (f'Epoch [{epoch+1}/{num_epochs}], Step[{i+1}/{n_total_steps}], Loss: {loss.item():.4f}')"
   ]
  },
  {
   "cell_type": "markdown",
   "metadata": {
    "id": "J9T7zeTgTqpD"
   },
   "source": [
    "Here is the testing loop again. Run it to see how your accuracy is!\n",
    "\n",
    "Then run all your code and see what your **final accuracy** is!"
   ]
  },
  {
   "cell_type": "code",
   "execution_count": 10,
   "metadata": {
    "colab": {
     "base_uri": "https://localhost:8080/"
    },
    "id": "ow-bPKlrTqpD",
    "outputId": "47ce12c2-9d30-4ef0-8887-9abf38363edb"
   },
   "outputs": [
    {
     "name": "stdout",
     "output_type": "stream",
     "text": [
      "Accuracy of the network on the 10000 test images: 68.97 %\n"
     ]
    }
   ],
   "source": [
    "# Note the use of torch.no_grad() and torch.max(). Be sure you know what they are doing\n",
    "#----------------------------------------------------------------#\n",
    "with torch.no_grad():\n",
    "    n_correct = 0\n",
    "    n_samples = 0\n",
    "    for images, labels in test_loader:\n",
    "        outputs = cnn_model(images)\n",
    "        # max returns (value ,index)\n",
    "        _, predicted = torch.max(outputs.data, 1)\n",
    "        n_samples += labels.size(0)\n",
    "        n_correct += (predicted == labels).sum().item()\n",
    "    acc = 100.0 * n_correct / n_samples\n",
    "    print(f'Accuracy of the network on the 10000 test images: {acc} %')\n",
    "#----------------------------------------------------------------#"
   ]
  },
  {
   "cell_type": "markdown",
   "metadata": {
    "id": "alJwweEUTqpE"
   },
   "source": [
    "Expected accuracy ~70%\n",
    "\n",
    "Looks like the CNN did do better! Feel free to mess with the parameters to see if you can get a better score. **Note that CNNs are more finnicky than DNNs, so your score may tank sometimes**."
   ]
  },
  {
   "cell_type": "markdown",
   "metadata": {
    "id": "TgTa02l9TqpE"
   },
   "source": [
    "### Congratulations on completing the project! Check your results with the notebook in the `answers` directory and then send your final accuracy to your club/channel/mentor!"
   ]
  }
 ],
 "metadata": {
  "colab": {
   "provenance": []
  },
  "kernelspec": {
   "display_name": "test (conda env)",
   "language": "python",
   "name": "test"
  },
  "language_info": {
   "codemirror_mode": {
    "name": "ipython",
    "version": 3
   },
   "file_extension": ".py",
   "mimetype": "text/x-python",
   "name": "python",
   "nbconvert_exporter": "python",
   "pygments_lexer": "ipython3",
   "version": "3.11.3"
  },
  "vscode": {
   "interpreter": {
    "hash": "f3204eab9621eb34088b9e71fcdb754ce79a12fd6a4cd73f4898b86bb3d12718"
   }
  }
 },
 "nbformat": 4,
 "nbformat_minor": 4
}
