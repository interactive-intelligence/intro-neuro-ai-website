{
  "nbformat": 4,
  "nbformat_minor": 0,
  "metadata": {
    "colab": {
      "provenance": []
    },
    "kernelspec": {
      "name": "python3",
      "display_name": "Python 3"
    },
    "language_info": {
      "name": "python"
    }
  },
  "cells": [
    {
      "cell_type": "markdown",
      "source": [
        "### Necessary imports"
      ],
      "metadata": {
        "id": "a8CIzM6SaEVs"
      }
    },
    {
      "cell_type": "code",
      "execution_count": null,
      "metadata": {
        "id": "c5l62lyE-UZm"
      },
      "outputs": [],
      "source": [
        "import math\n",
        "import random\n",
        "import numpy as np\n",
        "from graphviz import Digraph\n",
        "import matplotlib.pyplot as plt\n",
        "%matplotlib inline"
      ]
    },
    {
      "cell_type": "markdown",
      "source": [
        "### Helper functions"
      ],
      "metadata": {
        "id": "2okb43xvaJ0Z"
      }
    },
    {
      "cell_type": "code",
      "source": [
        "def trace(root):\n",
        "  # builds a set of all nodes and edges in a graph\n",
        "  nodes, edges = set(), set()\n",
        "  def build(v):\n",
        "    if v not in nodes:\n",
        "      nodes.add(v)\n",
        "      for child in v._prev:\n",
        "        edges.add((child, v))\n",
        "        build(child)\n",
        "  build(root)\n",
        "  return nodes, edges\n",
        "\n",
        "def draw_dot(root):\n",
        "  dot = Digraph(format='svg', graph_attr={'rankdir': 'LR'}) # LR = left to right\n",
        "  \n",
        "  nodes, edges = trace(root)\n",
        "  for n in nodes:\n",
        "    uid = str(id(n))\n",
        "    # for any value in the graph, create a rectangular ('record') node for it\n",
        "    dot.node(name = uid, label = \"{ %s | data %.4f | grad %.4f }\" % (n.label, n.data, n.grad), shape='record')\n",
        "    if n._op:\n",
        "      # if this value is a result of some operation, create an op node for it\n",
        "      dot.node(name = uid + n._op, label = n._op)\n",
        "      # and connect this node to it\n",
        "      dot.edge(uid + n._op, uid)\n",
        "\n",
        "  for n1, n2 in edges:\n",
        "    # connect n1 to the op node of n2\n",
        "    dot.edge(str(id(n1)), str(id(n2)) + n2._op)\n",
        "\n",
        "  return dot"
      ],
      "metadata": {
        "id": "N9Lby6hBEVBo"
      },
      "execution_count": null,
      "outputs": []
    },
    {
      "cell_type": "code",
      "source": [
        "class Value:\n",
        "    \n",
        "    def __init__(self, data):\n",
        "        # TODO\n",
        "        raise NotImplementedError\n",
        "\n",
        "    def __repr__(self):\n",
        "        # TODO\n",
        "        raise NotImplementedError\n"
      ],
      "metadata": {
        "id": "qqW0gGHkBg4I"
      },
      "execution_count": null,
      "outputs": []
    },
    {
      "cell_type": "code",
      "source": [
        "class Neuron:\n",
        "  \n",
        "    def __init__(self, nin):\n",
        "        # TODO\n",
        "        raise NotImplementedError\n",
        "  \n",
        "    def __call__(self, x):\n",
        "        # TODO\n",
        "        raise NotImplementedError\n",
        "  \n",
        "    def parameters(self):\n",
        "        #TODO\n",
        "        raise NotImplementedError\n"
      ],
      "metadata": {
        "id": "9qmL9gEpLRA_"
      },
      "execution_count": null,
      "outputs": []
    },
    {
      "cell_type": "code",
      "source": [
        "class Layer:\n",
        "  \n",
        "    def __init__(self, nin, nout):\n",
        "        # TODO\n",
        "        raise NotImplementedError\n",
        "  \n",
        "    def __call__(self, x):\n",
        "        # TODO\n",
        "        raise NotImplementedError\n",
        "  \n",
        "    def parameters(self):\n",
        "        # TODO\n",
        "        raise NotImplementedError\n"
      ],
      "metadata": {
        "id": "oIvbpzTuLTMj"
      },
      "execution_count": null,
      "outputs": []
    },
    {
      "cell_type": "code",
      "source": [
        "class MLP:\n",
        "  \n",
        "    def __init__(self, nin, nouts):\n",
        "        # TODO\n",
        "        raise NotImplementedError\n",
        "  \n",
        "    def __call__(self, x):\n",
        "        # TODO\n",
        "        raise NotImplementedError\n",
        "  \n",
        "    def parameters(self):\n",
        "        # TODO\n",
        "        raise NotImplementedError\n"
      ],
      "metadata": {
        "id": "_yvfVNbtEe9p"
      },
      "execution_count": null,
      "outputs": []
    }
  ]
}