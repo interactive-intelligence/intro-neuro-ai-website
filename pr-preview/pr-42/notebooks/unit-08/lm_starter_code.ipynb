{
  "nbformat": 4,
  "nbformat_minor": 0,
  "metadata": {
    "colab": {
      "provenance": []
    },
    "kernelspec": {
      "name": "python3",
      "display_name": "Python 3"
    },
    "language_info": {
      "name": "python"
    }
  },
  "cells": [
    {
      "cell_type": "markdown",
      "source": [
        "In this exercise, you'll train GPT-2 on a dataset of Shakespeare! You'll be using Hugging Face to download the dataset and pre-trained model - there's a tutorial located in the same folder as this in the GitHub repository. That tutorial will explain how to load models and datasets, pre-process them, and fine-tune the model!\n",
        "\n",
        "The starter code here is quite lightweight - you should refer back to the tutorial often. You will likely want to copy-paste some code from it, just make sure you know what it is doing!\n",
        "\n",
        "Once the model is trained, try generating some text! Hopefully it looks (somewhat) like Shakespeare!\n",
        "\n",
        "If you finish this and want to explore further, try training a different model or use a different dataset. This exercise is meant for you to be able to explore, so do what you find interesting!"
      ],
      "metadata": {
        "id": "-XztXEJOzfjC"
      }
    },
    {
      "cell_type": "markdown",
      "source": [
        "Download required libraries:"
      ],
      "metadata": {
        "id": "ftOXtNRCxVCg"
      }
    },
    {
      "cell_type": "code",
      "execution_count": null,
      "metadata": {
        "id": "3H25Eo5Xm-a1"
      },
      "outputs": [],
      "source": [
        "!pip install transformers\n",
        "!pip install datasets"
      ]
    },
    {
      "cell_type": "markdown",
      "source": [
        "Load the dataset you'll be using:"
      ],
      "metadata": {
        "id": "skalDwAkxd0P"
      }
    },
    {
      "cell_type": "code",
      "source": [
        "from datasets import load_dataset\n",
        "\n",
        "ds = load_dataset('tiny_shakespeare')\n",
        "ds"
      ],
      "metadata": {
        "id": "KfqFILiFtZx7"
      },
      "execution_count": null,
      "outputs": []
    },
    {
      "cell_type": "markdown",
      "source": [
        "Let's take a quick look at what's in the dataset!"
      ],
      "metadata": {
        "id": "dDDu2xhUxiDX"
      }
    },
    {
      "cell_type": "code",
      "source": [
        "print(ds['train']['text'][0][:300])"
      ],
      "metadata": {
        "id": "2sqvyaT6tw-J"
      },
      "execution_count": null,
      "outputs": []
    },
    {
      "cell_type": "markdown",
      "source": [
        "\n",
        "And from here it's up to you! Make sure to look at the tutorial, it will hopefully be a good guide. If you have any questions be sure to ping someone in the Discord!"
      ],
      "metadata": {
        "id": "_TeSW4qnxNQx"
      }
    }
  ]
}